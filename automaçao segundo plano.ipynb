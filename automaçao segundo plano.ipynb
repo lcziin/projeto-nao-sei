{
 "cells": [
  {
   "cell_type": "code",
   "execution_count": 8,
   "id": "390e320d",
   "metadata": {},
   "outputs": [
    {
     "name": "stdout",
     "output_type": "stream",
     "text": [
      "Qual frase deseja traduzir? oi\n",
      "<selenium.webdriver.remote.webelement.WebElement (session=\"39dd41a2d77a747d0a306957705db38f\", element=\"a8848d34-789d-4a3e-bb0e-6b04d46b536d\")>\n"
     ]
    }
   ],
   "source": [
    "#pegar a frase que quer traduzir\n",
    "\n",
    "frasept = input('Qual frase deseja traduzir? ')\n",
    "\n",
    "\n",
    "#abrir o navegador\n",
    "\n",
    "from selenium import webdriver\n",
    "\n",
    "from selenium.webdriver.common.keys import Keys\n",
    "\n",
    "import pyautogui\n",
    "\n",
    "navegador = webdriver.Chrome()\n",
    "\n",
    "navegador.get('https://www.google.com.br/')\n",
    "\n",
    "navegador.find_element_by_xpath('/html/body/div[1]/div[3]/form/div[1]/div[1]/div[1]/div/div[2]/input').send_keys('google tradutor portugues para ingles')\n",
    "\n",
    "navegador.find_element_by_xpath('/html/body/div[1]/div[3]/form/div[1]/div[1]/div[1]/div/div[2]/input').send_keys(Keys.ENTER)\n",
    "\n",
    "#traduzir a frase\n",
    "\n",
    "navegador.find_element_by_xpath('//*[@id=\"tw-source-text-ta\"]').send_keys(frasept)\n",
    "\n",
    "#ingles = navegador.find_element_by_xpath('//*[@id=\"tw-target-text\"]/span').get_attribute('lang=\"en\"')\n",
    "resultado =  navegador.find_element_by_xpath('//*[@class=\"Y2IQFc\"]')\n",
    "\n",
    "print(resultado)\n",
    "\n",
    "#amostrar a frase\n",
    "\n",
    "#print('sua tradução: ')\n",
    "#print(ingles)\n",
    "\n",
    "\n",
    "\n",
    "\n",
    "\n",
    "\n"
   ]
  },
  {
   "cell_type": "code",
   "execution_count": null,
   "id": "3f53b4ce",
   "metadata": {},
   "outputs": [],
   "source": []
  }
 ],
 "metadata": {
  "kernelspec": {
   "display_name": "Python 3 (ipykernel)",
   "language": "python",
   "name": "python3"
  },
  "language_info": {
   "codemirror_mode": {
    "name": "ipython",
    "version": 3
   },
   "file_extension": ".py",
   "mimetype": "text/x-python",
   "name": "python",
   "nbconvert_exporter": "python",
   "pygments_lexer": "ipython3",
   "version": "3.8.10"
  }
 },
 "nbformat": 4,
 "nbformat_minor": 5
}
